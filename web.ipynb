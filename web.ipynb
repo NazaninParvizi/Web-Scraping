{
 "cells": [
  {
   "cell_type": "code",
   "execution_count": 5,
   "metadata": {},
   "outputs": [
    {
     "name": "stdout",
     "output_type": "stream",
     "text": [
      "Data has been successfully saved to the database.\n"
     ]
    }
   ],
   "source": [
    "import requests\n",
    "from bs4 import BeautifulSoup\n",
    "import sqlite3\n",
    "\n",
    "\n",
    "def setup_database():\n",
    "    conn = sqlite3.connect(\"countries.db\")\n",
    "    cursor = conn.cursor()\n",
    "    cursor.execute('''\n",
    "        CREATE TABLE IF NOT EXISTS countries (\n",
    "            id INTEGER PRIMARY KEY AUTOINCREMENT,\n",
    "            name TEXT,\n",
    "            capital TEXT,\n",
    "            population INTEGER,\n",
    "            area REAL\n",
    "        )\n",
    "    ''')\n",
    "    conn.commit()\n",
    "    conn.close()\n",
    "\n",
    "def scrape_countries():\n",
    "    url = \"https://www.scrapethissite.com/pages/simple/\"\n",
    "    response = requests.get(url)\n",
    "    if response.status_code != 200:\n",
    "        print(\"Failed to fetch the webpage.\")\n",
    "        return []\n",
    "\n",
    "    soup = BeautifulSoup(response.content, \"html.parser\")\n",
    "    countries = []\n",
    "    country_divs = soup.find_all(\"div\", class_=\"country\")[:20]  # فقط 20 کشور اول\n",
    "    for country_div in country_divs:\n",
    "        name = country_div.find(\"h3\", class_=\"country-name\").text.strip()\n",
    "        capital = country_div.find(\"span\", class_=\"country-capital\").text.strip()\n",
    "        population = int(country_div.find(\"span\", class_=\"country-population\").text.strip().replace(\",\", \"\"))\n",
    "        area = float(country_div.find(\"span\", class_=\"country-area\").text.strip().replace(\",\", \"\"))\n",
    "        countries.append((name, capital, population, area))\n",
    "\n",
    "    return countries\n",
    "\n",
    "def save_to_database(countries):\n",
    "    conn = sqlite3.connect(\"countries.db\")\n",
    "    cursor = conn.cursor()\n",
    "    for country in countries:\n",
    "        cursor.execute('''\n",
    "            INSERT INTO countries (name, capital, population, area)\n",
    "            VALUES (?, ?, ?, ?)\n",
    "        ''', country)\n",
    "    conn.commit()\n",
    "    conn.close()\n",
    "\n",
    "if __name__ == \"__main__\":\n",
    "    setup_database()\n",
    "    countries = scrape_countries()\n",
    "    if countries:\n",
    "        save_to_database(countries)\n",
    "        print(\"Data has been successfully saved to the database.\")\n",
    "    else:\n",
    "        print(\"No data was scraped.\")\n"
   ]
  }
 ],
 "metadata": {
  "kernelspec": {
   "display_name": "Python 3",
   "language": "python",
   "name": "python3"
  },
  "language_info": {
   "codemirror_mode": {
    "name": "ipython",
    "version": 3
   },
   "file_extension": ".py",
   "mimetype": "text/x-python",
   "name": "python",
   "nbconvert_exporter": "python",
   "pygments_lexer": "ipython3",
   "version": "3.11.3"
  }
 },
 "nbformat": 4,
 "nbformat_minor": 2
}
